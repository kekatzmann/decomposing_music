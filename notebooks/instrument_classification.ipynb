{
 "cells": [
  {
   "cell_type": "markdown",
   "metadata": {},
   "source": [
    "# Instrument Classification\n",
    "This notebook contains the machine learning processes used to classify an instrument, based on the features we extracted from instruments sampled in the signal processing/note isolation notebook.<br>\n",
    "\n",
    "Currently, the only model I am running is a Random Forest, but as the dataset gets larger and more convoluted with different instruments, notes, and playing styles, it might be more appropriate to use deep learning algorithms."
   ]
  },
  {
   "cell_type": "code",
   "execution_count": 1,
   "metadata": {
    "collapsed": true
   },
   "outputs": [],
   "source": [
    "import pickle\n",
    "import pandas as pd\n",
    "\n",
    "from sklearn.ensemble import RandomForestClassifier\n",
    "from sklearn.model_selection import train_test_split"
   ]
  },
  {
   "cell_type": "code",
   "execution_count": 2,
   "metadata": {
    "collapsed": true
   },
   "outputs": [],
   "source": [
    "def rf_test(df):\n",
    "    y = df.instrument\n",
    "    X = df.drop(['instrument'],1)\n",
    "    \n",
    "    X_train, X_test, y_train, y_test = train_test_split(X, y)\n",
    "    \n",
    "    rf = RandomForestClassifier()\n",
    "    rf.fit(X_train,y_train)\n",
    "    return \"Score: {}% acc\".format(rf.score(X_test,y_test)*100)"
   ]
  },
  {
   "cell_type": "code",
   "execution_count": 3,
   "metadata": {
    "collapsed": true
   },
   "outputs": [],
   "source": [
    "with open('instrument_df.pkl', 'rb') as picklefile: \n",
    "    df = pickle.load(picklefile)"
   ]
  },
  {
   "cell_type": "code",
   "execution_count": 4,
   "metadata": {
    "collapsed": false
   },
   "outputs": [
    {
     "name": "stdout",
     "output_type": "stream",
     "text": [
      "(960, 5533)\n"
     ]
    },
    {
     "data": {
      "text/html": [
       "<div>\n",
       "<table border=\"1\" class=\"dataframe\">\n",
       "  <thead>\n",
       "    <tr style=\"text-align: right;\">\n",
       "      <th></th>\n",
       "      <th>instrument</th>\n",
       "      <th>0.0 Hz</th>\n",
       "      <th>2.0 Hz</th>\n",
       "      <th>4.0 Hz</th>\n",
       "      <th>6.0 Hz</th>\n",
       "      <th>8.0 Hz</th>\n",
       "      <th>10.0 Hz</th>\n",
       "      <th>12.0 Hz</th>\n",
       "      <th>14.0 Hz</th>\n",
       "      <th>16.0 Hz</th>\n",
       "      <th>...</th>\n",
       "      <th>2.5+ s</th>\n",
       "      <th>2.75+ s</th>\n",
       "      <th>3.0+ s</th>\n",
       "      <th>3.25+ s</th>\n",
       "      <th>3.5+ s</th>\n",
       "      <th>3.75+ s</th>\n",
       "      <th>4.0+ s</th>\n",
       "      <th>4.25+ s</th>\n",
       "      <th>4.5+ s</th>\n",
       "      <th>4.75+ s</th>\n",
       "    </tr>\n",
       "  </thead>\n",
       "  <tbody>\n",
       "    <tr>\n",
       "      <th>0</th>\n",
       "      <td>piano</td>\n",
       "      <td>0.188659</td>\n",
       "      <td>0.000000</td>\n",
       "      <td>14.462608</td>\n",
       "      <td>5.794117</td>\n",
       "      <td>7.788014</td>\n",
       "      <td>4.208870</td>\n",
       "      <td>3.763329</td>\n",
       "      <td>3.490718</td>\n",
       "      <td>243.415361</td>\n",
       "      <td>...</td>\n",
       "      <td>2.508654</td>\n",
       "      <td>2.307055</td>\n",
       "      <td>2.486311</td>\n",
       "      <td>2.454263</td>\n",
       "      <td>2.037899</td>\n",
       "      <td>1.830852</td>\n",
       "      <td>2.558858</td>\n",
       "      <td>1.927958</td>\n",
       "      <td>2.846597</td>\n",
       "      <td>2.120292</td>\n",
       "    </tr>\n",
       "    <tr>\n",
       "      <th>1</th>\n",
       "      <td>piano</td>\n",
       "      <td>0.426600</td>\n",
       "      <td>988.469666</td>\n",
       "      <td>600.288256</td>\n",
       "      <td>232.375840</td>\n",
       "      <td>80.226762</td>\n",
       "      <td>36.776741</td>\n",
       "      <td>43.334542</td>\n",
       "      <td>38.438236</td>\n",
       "      <td>34.722463</td>\n",
       "      <td>...</td>\n",
       "      <td>0.918194</td>\n",
       "      <td>1.212275</td>\n",
       "      <td>0.894884</td>\n",
       "      <td>1.175351</td>\n",
       "      <td>0.942144</td>\n",
       "      <td>1.117591</td>\n",
       "      <td>0.649042</td>\n",
       "      <td>0.914750</td>\n",
       "      <td>0.744140</td>\n",
       "      <td>0.867145</td>\n",
       "    </tr>\n",
       "    <tr>\n",
       "      <th>2</th>\n",
       "      <td>piano</td>\n",
       "      <td>0.188659</td>\n",
       "      <td>0.000000</td>\n",
       "      <td>14.462608</td>\n",
       "      <td>5.794117</td>\n",
       "      <td>7.788014</td>\n",
       "      <td>4.208870</td>\n",
       "      <td>3.763329</td>\n",
       "      <td>3.490718</td>\n",
       "      <td>243.415361</td>\n",
       "      <td>...</td>\n",
       "      <td>2.508654</td>\n",
       "      <td>2.307055</td>\n",
       "      <td>2.486311</td>\n",
       "      <td>2.454263</td>\n",
       "      <td>2.037899</td>\n",
       "      <td>1.830852</td>\n",
       "      <td>2.558858</td>\n",
       "      <td>1.927958</td>\n",
       "      <td>2.846597</td>\n",
       "      <td>2.120292</td>\n",
       "    </tr>\n",
       "    <tr>\n",
       "      <th>3</th>\n",
       "      <td>piano</td>\n",
       "      <td>0.426600</td>\n",
       "      <td>988.469666</td>\n",
       "      <td>600.288256</td>\n",
       "      <td>232.375840</td>\n",
       "      <td>80.226762</td>\n",
       "      <td>36.776741</td>\n",
       "      <td>43.334542</td>\n",
       "      <td>38.438236</td>\n",
       "      <td>34.722463</td>\n",
       "      <td>...</td>\n",
       "      <td>0.918194</td>\n",
       "      <td>1.212275</td>\n",
       "      <td>0.894884</td>\n",
       "      <td>1.175351</td>\n",
       "      <td>0.942144</td>\n",
       "      <td>1.117591</td>\n",
       "      <td>0.649042</td>\n",
       "      <td>0.914750</td>\n",
       "      <td>0.744140</td>\n",
       "      <td>0.867145</td>\n",
       "    </tr>\n",
       "    <tr>\n",
       "      <th>4</th>\n",
       "      <td>piano</td>\n",
       "      <td>0.188659</td>\n",
       "      <td>0.000000</td>\n",
       "      <td>14.462608</td>\n",
       "      <td>5.794117</td>\n",
       "      <td>7.788014</td>\n",
       "      <td>4.208870</td>\n",
       "      <td>3.763329</td>\n",
       "      <td>3.490718</td>\n",
       "      <td>243.415361</td>\n",
       "      <td>...</td>\n",
       "      <td>2.508654</td>\n",
       "      <td>2.307055</td>\n",
       "      <td>2.486311</td>\n",
       "      <td>2.454263</td>\n",
       "      <td>2.037899</td>\n",
       "      <td>1.830852</td>\n",
       "      <td>2.558858</td>\n",
       "      <td>1.927958</td>\n",
       "      <td>2.846597</td>\n",
       "      <td>2.120292</td>\n",
       "    </tr>\n",
       "  </tbody>\n",
       "</table>\n",
       "<p>5 rows × 5533 columns</p>\n",
       "</div>"
      ],
      "text/plain": [
       "  instrument    0.0 Hz      2.0 Hz      4.0 Hz      6.0 Hz     8.0 Hz  \\\n",
       "0      piano  0.188659    0.000000   14.462608    5.794117   7.788014   \n",
       "1      piano  0.426600  988.469666  600.288256  232.375840  80.226762   \n",
       "2      piano  0.188659    0.000000   14.462608    5.794117   7.788014   \n",
       "3      piano  0.426600  988.469666  600.288256  232.375840  80.226762   \n",
       "4      piano  0.188659    0.000000   14.462608    5.794117   7.788014   \n",
       "\n",
       "     10.0 Hz    12.0 Hz    14.0 Hz     16.0 Hz    ...       2.5+ s   2.75+ s  \\\n",
       "0   4.208870   3.763329   3.490718  243.415361    ...     2.508654  2.307055   \n",
       "1  36.776741  43.334542  38.438236   34.722463    ...     0.918194  1.212275   \n",
       "2   4.208870   3.763329   3.490718  243.415361    ...     2.508654  2.307055   \n",
       "3  36.776741  43.334542  38.438236   34.722463    ...     0.918194  1.212275   \n",
       "4   4.208870   3.763329   3.490718  243.415361    ...     2.508654  2.307055   \n",
       "\n",
       "     3.0+ s   3.25+ s    3.5+ s   3.75+ s    4.0+ s   4.25+ s    4.5+ s  \\\n",
       "0  2.486311  2.454263  2.037899  1.830852  2.558858  1.927958  2.846597   \n",
       "1  0.894884  1.175351  0.942144  1.117591  0.649042  0.914750  0.744140   \n",
       "2  2.486311  2.454263  2.037899  1.830852  2.558858  1.927958  2.846597   \n",
       "3  0.894884  1.175351  0.942144  1.117591  0.649042  0.914750  0.744140   \n",
       "4  2.486311  2.454263  2.037899  1.830852  2.558858  1.927958  2.846597   \n",
       "\n",
       "    4.75+ s  \n",
       "0  2.120292  \n",
       "1  0.867145  \n",
       "2  2.120292  \n",
       "3  0.867145  \n",
       "4  2.120292  \n",
       "\n",
       "[5 rows x 5533 columns]"
      ]
     },
     "execution_count": 4,
     "metadata": {},
     "output_type": "execute_result"
    }
   ],
   "source": [
    "print(df.shape)\n",
    "df.head()"
   ]
  },
  {
   "cell_type": "code",
   "execution_count": 5,
   "metadata": {
    "collapsed": false
   },
   "outputs": [
    {
     "data": {
      "text/plain": [
       "'Score: 100.0% acc'"
      ]
     },
     "execution_count": 5,
     "metadata": {},
     "output_type": "execute_result"
    }
   ],
   "source": [
    "rf_test(df)"
   ]
  },
  {
   "cell_type": "markdown",
   "metadata": {},
   "source": [
    "### Takeaways so far\n",
    "Achieved an accuracy of 100% when using a random forest model in this two-class problem.<br>\n",
    "\n",
    "This model is not robust. The data is extremely simple. A piano is very distinct from a flute, even in the duration of the note.<br>\n",
    "\n",
    "Need to include different instruments, playing different notes, in different styles (i.e. chords, slides)<br>"
   ]
  },
  {
   "cell_type": "code",
   "execution_count": null,
   "metadata": {
    "collapsed": true
   },
   "outputs": [],
   "source": []
  },
  {
   "cell_type": "code",
   "execution_count": null,
   "metadata": {
    "collapsed": true
   },
   "outputs": [],
   "source": []
  },
  {
   "cell_type": "code",
   "execution_count": null,
   "metadata": {
    "collapsed": true
   },
   "outputs": [],
   "source": []
  },
  {
   "cell_type": "code",
   "execution_count": null,
   "metadata": {
    "collapsed": true
   },
   "outputs": [],
   "source": []
  }
 ],
 "metadata": {
  "anaconda-cloud": {},
  "kernelspec": {
   "display_name": "Python [conda root]",
   "language": "python",
   "name": "conda-root-py"
  },
  "language_info": {
   "codemirror_mode": {
    "name": "ipython",
    "version": 3
   },
   "file_extension": ".py",
   "mimetype": "text/x-python",
   "name": "python",
   "nbconvert_exporter": "python",
   "pygments_lexer": "ipython3",
   "version": "3.5.2"
  }
 },
 "nbformat": 4,
 "nbformat_minor": 1
}
