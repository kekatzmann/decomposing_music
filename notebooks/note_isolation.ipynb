{
 "cells": [
  {
   "cell_type": "markdown",
   "metadata": {},
   "source": [
    "<a id='top'></a>\n",
    "# Signal Processing/Note Isolation\n",
    "\n",
    "This notebook contains signal processing and machine learning techniques used to isolate notes, and create a labeled dataframe on which an instrument classifier can be trained.<br>\n",
    "\n",
    "### Contents:\n",
    "- [Setup](#setup)\n",
    "- [Butterworth passband filter](#butter)\n",
    "- [Fourer transform](#fourier)\n",
    "- [Non-negative Matrix Factorization](#nmf)\n",
    "- [Creating a DataFrame](#create)"
   ]
  },
  {
   "cell_type": "markdown",
   "metadata": {},
   "source": [
    "<a id='setup'></a>\n",
    "## Setup\n",
    "[back to top](#top)<br>\n",
    "\n",
    "The dataset I used can be found in the music/dataset/ directory. I placed the data in a dictionary, which I iterated through when creating the final dataframe.<br>\n",
    "\n",
    "I imported a file, sound_check.py, which contains simple functions that can be used in an initial check of the wave files."
   ]
  },
  {
   "cell_type": "code",
   "execution_count": 1,
   "metadata": {
    "collapsed": true
   },
   "outputs": [],
   "source": [
    "import os\n",
    "import seaborn as sns\n",
    "import pyaudio\n",
    "import wave\n",
    "import numpy as np\n",
    "\n",
    "from scipy.signal import butter, lfilter, spectrogram\n",
    "from scipy.fftpack import fft, ifft, rfft, irfft, fftfreq,  rfftfreq\n",
    "\n",
    "from sklearn.decomposition import NMF\n",
    "from sklearn.utils.extmath import randomized_svd\n",
    "from copy import deepcopy\n",
    "\n",
    "import pandas as pd\n",
    "import pickle\n",
    "\n",
    "%matplotlib inline"
   ]
  },
  {
   "cell_type": "code",
   "execution_count": 2,
   "metadata": {
    "collapsed": true
   },
   "outputs": [],
   "source": [
    "# Instruments & Notes\n",
    "# all sampled at 44100 Hz, 16000 bits per sample, mono\n",
    "\n",
    "path = os.getcwd()+'/music'\n",
    "\n",
    "inst_dict = {}\n",
    "for (root,dirs,files) in os.walk(path+'/dataset'):\n",
    "    files = [f for f in files if not f[0] == '.']\n",
    "    dirs = [d for d in dirs if not d[0] == '.']\n",
    "    if files:\n",
    "        inst_dict[root.split('/')[-1]] = [root + '/' + f for f in files]\n",
    "\n",
    "test_audio = [\"/piano/notes/C4.wav\",\n",
    "              \"/piano/playing/playing_001.wav\",\n",
    "              \"/dataset/flute/C4_E4.wav\",\n",
    "              \"/dataset/piano/C4_E4.wav\",\n",
    "             ]\n",
    "\n",
    "lowcut = 20\n",
    "highcut = 16000"
   ]
  },
  {
   "cell_type": "code",
   "execution_count": 3,
   "metadata": {
    "collapsed": false
   },
   "outputs": [
    {
     "data": {
      "text/plain": [
       "{'flute': ['/Users/kevin_katzmann/ds/Metis/projects/Kojak/music/dataset/flute/C4_A4.wav',\n",
       "  '/Users/kevin_katzmann/ds/Metis/projects/Kojak/music/dataset/flute/C4_E4.wav',\n",
       "  '/Users/kevin_katzmann/ds/Metis/projects/Kojak/music/dataset/flute/C4_F4.wav',\n",
       "  '/Users/kevin_katzmann/ds/Metis/projects/Kojak/music/dataset/flute/C4_G4.wav',\n",
       "  '/Users/kevin_katzmann/ds/Metis/projects/Kojak/music/dataset/flute/E4_A4.wav',\n",
       "  '/Users/kevin_katzmann/ds/Metis/projects/Kojak/music/dataset/flute/E4_F4.wav',\n",
       "  '/Users/kevin_katzmann/ds/Metis/projects/Kojak/music/dataset/flute/E4_G4.wav',\n",
       "  '/Users/kevin_katzmann/ds/Metis/projects/Kojak/music/dataset/flute/F4_A4.wav',\n",
       "  '/Users/kevin_katzmann/ds/Metis/projects/Kojak/music/dataset/flute/F4_G4.wav',\n",
       "  '/Users/kevin_katzmann/ds/Metis/projects/Kojak/music/dataset/flute/G4_A4.wav'],\n",
       " 'piano': ['/Users/kevin_katzmann/ds/Metis/projects/Kojak/music/dataset/piano/C4_A4.wav',\n",
       "  '/Users/kevin_katzmann/ds/Metis/projects/Kojak/music/dataset/piano/C4_E4.wav',\n",
       "  '/Users/kevin_katzmann/ds/Metis/projects/Kojak/music/dataset/piano/C4_F4.wav',\n",
       "  '/Users/kevin_katzmann/ds/Metis/projects/Kojak/music/dataset/piano/C4_G4.wav',\n",
       "  '/Users/kevin_katzmann/ds/Metis/projects/Kojak/music/dataset/piano/E4_A4.wav',\n",
       "  '/Users/kevin_katzmann/ds/Metis/projects/Kojak/music/dataset/piano/E4_F4.wav',\n",
       "  '/Users/kevin_katzmann/ds/Metis/projects/Kojak/music/dataset/piano/E4_G4.wav',\n",
       "  '/Users/kevin_katzmann/ds/Metis/projects/Kojak/music/dataset/piano/F4_A4.wav',\n",
       "  '/Users/kevin_katzmann/ds/Metis/projects/Kojak/music/dataset/piano/F4_G4.wav',\n",
       "  '/Users/kevin_katzmann/ds/Metis/projects/Kojak/music/dataset/piano/G4_A4.wav']}"
      ]
     },
     "execution_count": 3,
     "metadata": {},
     "output_type": "execute_result"
    }
   ],
   "source": [
    "inst_dict"
   ]
  },
  {
   "cell_type": "code",
   "execution_count": 4,
   "metadata": {
    "collapsed": false
   },
   "outputs": [],
   "source": [
    "# %load sound_check.py\n",
    "# Helper/initial check functions\n",
    "# run cell twice when loading in a jupyter notebook, and use: %load kojak_helpers.py\n",
    "\n",
    "import pyaudio\n",
    "import wave\n",
    "import numpy as np\n",
    "from scipy.signal import butter, lfilter\n",
    "\n",
    "\n",
    "# Play a wav file\n",
    "def play_wav(file,path=None):\n",
    "    file = path+file if path else file\n",
    "    print(\"Playing: \", file)\n",
    "    chunk = 1024//2\n",
    "    f = wave.open(file,\"rb\")\n",
    "    p = pyaudio.PyAudio()\n",
    "    stream = p.open(format = p.get_format_from_width(f.getsampwidth()),  \n",
    "                    channels = f.getnchannels(),  \n",
    "                    rate = f.getframerate(),  \n",
    "                    output = True)\n",
    "    data = f.readframes(chunk)\n",
    "    while data:  \n",
    "        stream.write(data)  \n",
    "        data = f.readframes(chunk)\n",
    "    stream.stop_stream()  \n",
    "    stream.close()    \n",
    "    p.terminate()\n",
    "\n",
    "\n",
    "# Convert stereo tracks to mono\n",
    "def ster_to_mon(frames):\n",
    "    frames = frames[:-1] if len(frames)%2>0 else frames\n",
    "    newaudiodata = []\n",
    "    for i in range(0,len(frames),2):\n",
    "        d = (frames[i] + frames[i+1])/2\n",
    "        newaudiodata.append(d)\n",
    "    return np.array(newaudiodata, dtype='int16')\n",
    "\n",
    "\n",
    "# Opens wav file\n",
    "def open_wav(file,path=None):\n",
    "    file = path+file if path else file\n",
    "    print(\"Opening file: \",file)\n",
    "    f = wave.open(file, \"rb\")\n",
    "    frames = np.fromstring(f.readframes(-1), 'Int16')\n",
    "    frames = ster_to_mon(frames) if f.getnchannels()==2 else frames\n",
    "    rate = f.getframerate()\n",
    "    f.close()\n",
    "    print(\"Time (s): \", len(frames)/rate)\n",
    "    return frames, rate\n",
    "\n",
    "# Simple plot of wav file\n",
    "def quickplot_wav(file,path=None):\n",
    "    frames, rate = open_wav(file,path=path)\n",
    "    times = [(x[0]/rate) for x in list(enumerate(frames))]\n",
    "    sns.plt.figure()\n",
    "    sns.plt.title('Signal Wave')\n",
    "    sns.plt.xlabel(\"Time\")\n",
    "    sns.plt.ylabel(\"Amplitude\")\n",
    "    sns.plt.plot(times,frames)\n",
    "    sns.plt.show()\n"
   ]
  },
  {
   "cell_type": "code",
   "execution_count": 5,
   "metadata": {
    "collapsed": false
   },
   "outputs": [
    {
     "name": "stdout",
     "output_type": "stream",
     "text": [
      "Playing:  /Users/kevin_katzmann/ds/Metis/projects/Kojak/music/dataset/piano/C4_A4.wav\n"
     ]
    }
   ],
   "source": [
    "play_wav(inst_dict['piano'][0])"
   ]
  },
  {
   "cell_type": "markdown",
   "metadata": {},
   "source": [
    "<a id='butter'></a>\n",
    "## Butterworth passband filter\n",
    "[back to top](#top)<br>\n",
    "\n",
    "Butterworth filter implemented as an option when obtaining frames from a wave file.<br>\n",
    "\n",
    "The filter used in this project filtered out frequencies below 20 Hz and above 16,000 Hz.<br>"
   ]
  },
  {
   "cell_type": "code",
   "execution_count": 6,
   "metadata": {
    "collapsed": true
   },
   "outputs": [],
   "source": [
    "# Butterworth passband filter (can be visualized with 'plot_wav' function)\n",
    "\n",
    "def butter_bandpass(lowcut, highcut, fs, order=5):\n",
    "    nyq = 0.5 * fs\n",
    "    low = lowcut / nyq\n",
    "    high = highcut / nyq\n",
    "    b, a = butter(order, [low, high], btype='band')\n",
    "    return b, a\n",
    "\n",
    "def butter_bandpass_filter(data, lowcut, highcut, fs, order=5):\n",
    "    b, a = butter_bandpass(lowcut, highcut, fs, order=order)\n",
    "    filtered = lfilter(b, a, data)\n",
    "    return filtered"
   ]
  },
  {
   "cell_type": "code",
   "execution_count": 7,
   "metadata": {
    "collapsed": false
   },
   "outputs": [],
   "source": [
    "# Use this function to get all the frames from a song. Will use those frames to create a matrix with fft\n",
    "\n",
    "def get_frames(file,start=None,stop=None,butter=False,lowcut=lowcut,highcut=highcut,plot=False,path=None):\n",
    "    frames, rate = open_wav(file,path=path)\n",
    "    \n",
    "    if butter==True:\n",
    "        frames = butter_bandpass_filter(frames, lowcut, highcut, rate, order=2)\n",
    "\n",
    "    start = 0 if start==None else start\n",
    "    stop = len(frames) if stop==None else stop\n",
    "    \n",
    "    frames = frames[int(start*rate):int(stop*rate)]\n",
    "    times = [(x[0]/rate) for x in list(enumerate(frames))]\n",
    "    \n",
    "    if plot==True:\n",
    "        sns.plt.figure(1)\n",
    "        sns.plt.title('Signal Wave')\n",
    "        sns.plt.xlabel(\"Time\")\n",
    "        sns.plt.ylabel(\"Amplitude\")\n",
    "        sns.plt.plot(times,frames)\n",
    "        sns.plt.show()\n",
    "    \n",
    "    return frames, rate\n",
    "\n",
    "#get_frames(test_audio[0],butter=True,plot=True,path=path)"
   ]
  },
  {
   "cell_type": "code",
   "execution_count": 8,
   "metadata": {
    "collapsed": false
   },
   "outputs": [
    {
     "name": "stdout",
     "output_type": "stream",
     "text": [
      "Opening file:  /Users/kevin_katzmann/ds/Metis/projects/Kojak/music/piano/playing/playing_001.wav\n",
      "Time (s):  5.175600907029478\n"
     ]
    },
    {
     "name": "stderr",
     "output_type": "stream",
     "text": [
      "/Users/kevin_katzmann/anaconda/lib/python3.5/site-packages/ipykernel/__main__.py:46: DeprecationWarning: Numeric-style type codes are deprecated and will result in an error in the future.\n"
     ]
    },
    {
     "data": {
      "image/png": "[encoded data removed]",
      "text/plain": [
       "<matplotlib.figure.Figure at 0x1124ebd68>"
      ]
     },
     "metadata": {},
     "output_type": "display_data"
    }
   ],
   "source": [
    "test_frames, test_rate = get_frames(test_audio[1],butter=True,plot=True,path=path)"
   ]
  },
  {
   "cell_type": "markdown",
   "metadata": {},
   "source": [
    "<a id='fourier'></a>\n",
    "## Fourier transform\n",
    "[back to top](#top)</br>\n",
    "\n",
    "The goal of this section is to create a matrix composed of multiple Fourier transforms across the length of the frames.</br>\n",
    "\n",
    "Doing so will yield a matrix of m time-windows by n frequencies (M×N), with each point representing the magnitude of a frequency, throughout a window of time.</br>\n",
    "\n",
    "Window length was set at 1/4 seconds.\n",
    "- need window to be large enough to precicely capture the frecuencies that are present, but small enough to capture temporal information as it traverses the length of the frames\n",
    "- 1/4 second windows are work perfectly fine for the purposes of this trial, but use of smaller windows should be considered as songs become more complex, and more 'real'</br>\n",
    "\n",
    "Spectrogram included to vizualize the matrix.<br>\n"
   ]
  },
  {
   "cell_type": "code",
   "execution_count": 9,
   "metadata": {
    "collapsed": true
   },
   "outputs": [],
   "source": [
    "def fft(frames,rate,window=(1/4),freq_req=True):\n",
    "    # adjust for odd length of frames (issue will show up when  by 1/4 sec, 1/8 sec, etc.)\n",
    "    frames = frames[:-1] if len(frames)%2!=0 else frames\n",
    "    \n",
    "    n = len(frames)\n",
    "    unique = n//2\n",
    "    \n",
    "    amp = np.abs(rfft(frames)[:unique])\n",
    "    freq = np.abs(fftfreq(n,d=((window)/(unique)))[:unique])\n",
    "        \n",
    "    if freq_req==True:\n",
    "        return amp, freq\n",
    "    else:\n",
    "        return amp"
   ]
  },
  {
   "cell_type": "code",
   "execution_count": 10,
   "metadata": {
    "collapsed": true
   },
   "outputs": [],
   "source": [
    "def fft_matrix(frames,rate,window=(1/4)):\n",
    "\n",
    "    amps = []\n",
    "    times = []\n",
    "    start = 0\n",
    "    time=0\n",
    "    \n",
    "    while True:\n",
    "        end = start + window*rate\n",
    "        if end > len(frames):\n",
    "            break\n",
    "        current_frames = frames[int(start):int(end)]\n",
    "        \n",
    "        current_amps, current_freqs = fft(current_frames,rate,window=window)\n",
    "        \n",
    "        amps.append(current_amps)\n",
    "        if time==0:\n",
    "            freqs = current_freqs\n",
    "        times.append(time)\n",
    "        \n",
    "        start = end\n",
    "        time += window\n",
    "        \n",
    "    return amps, freqs, times\n"
   ]
  },
  {
   "cell_type": "code",
   "execution_count": 11,
   "metadata": {
    "collapsed": false
   },
   "outputs": [],
   "source": [
    "test_amps, test_freqs, test_times = fft_matrix(test_frames,test_rate)"
   ]
  },
  {
   "cell_type": "code",
   "execution_count": 12,
   "metadata": {
    "collapsed": false
   },
   "outputs": [
    {
     "data": {
      "text/plain": [
       "[<matplotlib.lines.Line2D at 0x119ab52e8>]"
      ]
     },
     "execution_count": 12,
     "metadata": {},
     "output_type": "execute_result"
    },
    {
     "data": {
      "image/png": "[encoded data removed]",
      "text/plain": [
       "<matplotlib.figure.Figure at 0x117890dd8>"
      ]
     },
     "metadata": {},
     "output_type": "display_data"
    }
   ],
   "source": [
    "sns.plt.plot(test_freqs,test_amps[6])"
   ]
  },
  {
   "cell_type": "code",
   "execution_count": 13,
   "metadata": {
    "collapsed": false
   },
   "outputs": [
    {
     "data": {
      "text/plain": [
       "5512"
      ]
     },
     "execution_count": 13,
     "metadata": {},
     "output_type": "execute_result"
    }
   ],
   "source": [
    "len(test_freqs)"
   ]
  },
  {
   "cell_type": "code",
   "execution_count": 16,
   "metadata": {
    "collapsed": false
   },
   "outputs": [],
   "source": [
    "# Spectrogram\n",
    "# Adjust vmin/vmax to adjust intensity of colors.\n",
    "\n",
    "def spect(amp_matrix, times, min_freq=0, max_freq=5000, vmin=0, vmax=100000):\n",
    "    fig = sns.plt.figure()\n",
    "    ax = fig.add_subplot(111)\n",
    "    ax.imshow(np.transpose(np.array(amp_matrix)),aspect='auto',cmap='plasma',vmin=vmin,vmax=vmax)\n",
    "    sns.plt.grid(b=None)\n",
    "    \n",
    "    yticks = ax.get_yticks()[1:-1]\n",
    "    sns.plt.yticks(yticks, (yticks * max_freq/yticks[-1]).astype('str'))\n",
    "    sns.plt.ylim(max_freq,min_freq)\n",
    "    \n",
    "    sns.plt.xticks(np.arange(0,len(times),1), [x*1 for x in times])\n",
    "    \n",
    "    sns.plt.ylabel('frequency')\n",
    "    sns.plt.xlabel('time')\n",
    "    sns.plt.show()"
   ]
  },
  {
   "cell_type": "code",
   "execution_count": 17,
   "metadata": {
    "collapsed": false
   },
   "outputs": [
    {
     "data": {
      "image/png": "[encoded data removed]",
      "text/plain": [
       "<matplotlib.figure.Figure at 0x1196c9898>"
      ]
     },
     "metadata": {},
     "output_type": "display_data"
    }
   ],
   "source": [
    "spect(test_amps,test_times)"
   ]
  },
  {
   "cell_type": "markdown",
   "metadata": {
    "collapsed": true
   },
   "source": [
    "Functions seem to work.<br>\n",
    "\n",
    "You can clearly see the two louder notes being played in the spectrogram.<br>\n",
    "\n",
    "The first note (C4) is played between 0 and 0.25 seconds.<br>\n",
    "The second note (G4) is played between 1.75 and 2.0 seconds.<br>\n",
    "A third note (C4) is played more softly, just after the second, between 2.25 and 2.5 seconds<br>\n",
    "\n",
    "Now lets put matrix through NMF to isolate notes...<br>"
   ]
  },
  {
   "cell_type": "markdown",
   "metadata": {},
   "source": [
    "<a id='nmf'></a>\n",
    "## Non-negative Matrix Factorization\n",
    "[back to top](#top)<br>\n",
    "\n",
    "The goal of this section is to isolate individual notes.<br>\n",
    "\n",
    "For this project, I will be parsing each 'song' into 5 intervals, and performing an Fourier transform on 1/4 windows of those intervals, yielding 20 time windows per interval.<br>\n",
    "\n",
    "I will then perform NMF the matrix acquired from each interval (20×5512), to isolate the two notes, or two 'clusters of frequencies' (main frequency of note, and its overtones), that are present.<br>\n",
    "\n",
    "Automation of this process would require identifying the number of notes played in a parsed interval. SVD could be used for this, but might not be the best option.\n"
   ]
  },
  {
   "cell_type": "code",
   "execution_count": 18,
   "metadata": {
    "collapsed": true
   },
   "outputs": [],
   "source": [
    "# Helpers for nmf_test\n",
    "\n",
    "def select_instrument(W,instrument_index):\n",
    "    muted = deepcopy(W)\n",
    "    for i in muted:\n",
    "        for j in range(len(i)):\n",
    "            if j!=instrument_index:\n",
    "                i[j]=0\n",
    "    return muted\n",
    "\n",
    "def reconstruct(instrument_matrix):\n",
    "    instrument_frames = []\n",
    "    for fft in instrument_matrix:\n",
    "        fft_list=list(fft)\n",
    "        fft_list.extend(fft_list[::-1])\n",
    "        instrument_frames.extend(irfft(fft_list))\n",
    "    return instrument_frames\n",
    "\n",
    "def plot_svd(amp_matrix, n):\n",
    "    U, S, T = randomized_svd(np.array(amp_matrix), n_components=n, n_iter=7, random_state=42)\n",
    "    print(S)\n",
    "    sns.plt.figure()\n",
    "    sns.plt.plot(S)\n",
    "    sns.plt.show()"
   ]
  },
  {
   "cell_type": "code",
   "execution_count": 19,
   "metadata": {
    "collapsed": true
   },
   "outputs": [],
   "source": [
    "# Useful function for visualizing separation of the notes\n",
    "\n",
    "def nmf_viz(amps, freqs, times, n_notes, plot=False, eigen=10):\n",
    "    nmf = NMF(n_components=n_notes, init='random', random_state=0)\n",
    "    W = nmf.fit_transform(amps)\n",
    "    H = nmf.components_;\n",
    "    instrument_arrays = []\n",
    "    if plot==True:\n",
    "        plot_svd(amps,eigen)\n",
    "    for i in range(n_notes):\n",
    "        selected = select_instrument(W,i)\n",
    "        instrument = nmf.inverse_transform(selected)\n",
    "        frames = reconstruct(instrument)\n",
    "        instrument_arrays.append(np.array(frames))\n",
    "        if plot==True:\n",
    "            sns.plt.figure()\n",
    "            sns.plt.plot(frames)\n",
    "            sns.plt.show()\n",
    "    return instrument_arrays"
   ]
  },
  {
   "cell_type": "code",
   "execution_count": 20,
   "metadata": {
    "collapsed": false
   },
   "outputs": [
    {
     "name": "stdout",
     "output_type": "stream",
     "text": [
      "[ 24289112.00215494  19808824.53549099  10608731.40537097\n",
      "   9108571.59554976   6221890.97838761   2910136.03178484\n",
      "   2017565.25993811   1507224.52159954   1412601.11047857\n",
      "   1102090.42511223]\n"
     ]
    },
    {
     "data": {
      "image/png": "[encoded data removed]",
      "text/plain": [
       "<matplotlib.figure.Figure at 0x117ba79e8>"
      ]
     },
     "metadata": {},
     "output_type": "display_data"
    },
    {
     "data": {
      "image/png": "[encoded data removed]",
      "text/plain": [
       "<matplotlib.figure.Figure at 0x119824940>"
      ]
     },
     "metadata": {},
     "output_type": "display_data"
    },
    {
     "data": {
      "image/png": "[encoded data removed]",
      "text/plain": [
       "<matplotlib.figure.Figure at 0x11983c8d0>"
      ]
     },
     "metadata": {},
     "output_type": "display_data"
    },
    {
     "data": {
      "text/plain": [
       "[array([  1.12994604e+01,  -1.41957918e-01,   1.01486216e+01, ...,\n",
       "          2.89819496e+02,   5.73754055e+02,   1.64410739e+02]),\n",
       " array([  1.16682620e+01,  -3.31268486e-01,   1.08317132e+01, ...,\n",
       "          1.51339058e+02,   4.25611046e+02,   8.77008470e+01])]"
      ]
     },
     "execution_count": 20,
     "metadata": {},
     "output_type": "execute_result"
    }
   ],
   "source": [
    "# The reconstructed plot is a bit off because I used only the second half of the absolute values of the Fourier.\n",
    "# But relative amplitudes among the 1/4 sec windows remain true.\n",
    "\n",
    "nmf_viz(test_amps, test_freqs, test_times, 2, plot=True)"
   ]
  },
  {
   "cell_type": "code",
   "execution_count": 21,
   "metadata": {
    "collapsed": true
   },
   "outputs": [],
   "source": [
    "# NMF function used to create the dataframe. This will return a row for each note, which includes:\n",
    "#   - the instrument\n",
    "#   - temporal information of the cluster (column in the W matrix)\n",
    "#   - overtones (corresponding row in the H matrix).\n",
    "\n",
    "def nmf_isolate(amp_matrix, n_notes, inst_type=None):\n",
    "    nmf = NMF(n_components=n_notes, init='random', random_state=0)\n",
    "    W = nmf.fit_transform(amp_matrix)\n",
    "    H = nmf.components_\n",
    "    note_arrays = []\n",
    "    \n",
    "    for i in range(n_notes):\n",
    "        note = [inst_type]\n",
    "        Wi = [x[i] for x in W]\n",
    "        note.extend(Wi)\n",
    "        note.extend(H[i])\n",
    "        note_arrays.append(note)\n",
    "\n",
    "    return note_arrays"
   ]
  },
  {
   "cell_type": "code",
   "execution_count": 22,
   "metadata": {
    "collapsed": true
   },
   "outputs": [],
   "source": [
    "# Parse frames of a song into smaller intervals (5 seconds for my case) so that SVD can\n",
    "#   more easily identify number of notes (or clusters of frequencies) present, and NMF \n",
    "#   can more easily separate them\n",
    "\n",
    "def parse_frames(frames,rate,interval=5):\n",
    "    frames_list = []\n",
    "    intvl = int(interval*rate)\n",
    "    intvl_end = intvl\n",
    "    start = 0\n",
    "    while True:\n",
    "        if intvl_end>len(frames):\n",
    "            return frames_list\n",
    "        frames_list.append(frames[start:intvl_end])\n",
    "        start=intvl_end\n",
    "        intvl_end+=intvl\n"
   ]
  },
  {
   "cell_type": "markdown",
   "metadata": {},
   "source": [
    "<a id='create'></a>\n",
    "## Creating DataFrame\n",
    "[back to top](#top)<br>\n",
    "\n",
    "Create a labeled dataframe, containing the temporal and overtone information of each note"
   ]
  },
  {
   "cell_type": "code",
   "execution_count": 23,
   "metadata": {
    "collapsed": false
   },
   "outputs": [],
   "source": [
    "# Now combine everything to create dataframe to train classifier on, starting with dict.\n",
    "def create_df(inst_dict, parse_interval=5, fft_window=(1/4)):\n",
    "    note_arrays = []\n",
    "    instruments = list(inst_dict.keys())\n",
    "    for inst in instruments:\n",
    "        print(\"Instrument: \",inst)\n",
    "        for song in inst_dict[inst]:\n",
    "            frames, rate = get_frames(song,butter=True,)\n",
    "            parsed_frames = parse_frames(frames,rate,interval=parse_interval)\n",
    "            for frame in parsed_frames:\n",
    "                amps, freqs, times = fft_matrix(frame,rate,window=fft_window)\n",
    "                isolated = nmf_isolate(test_amps,2,\"piano\")\n",
    "                note_arrays += isolated\n",
    "            if song == inst_dict[inst][0] and inst == instruments[0]:\n",
    "                cols = [\"instrument\"]\n",
    "                freq_cols = [str(x)+\" Hz\" for x in list(freqs)]\n",
    "                cols.extend(freq_cols)\n",
    "                time_cols = [str(x)+\"+ s\" for x in times]\n",
    "                cols.extend(time_cols)\n",
    "    df = pd.DataFrame(note_arrays, columns=cols)\n",
    "    return df"
   ]
  },
  {
   "cell_type": "code",
   "execution_count": 24,
   "metadata": {
    "collapsed": false
   },
   "outputs": [
    {
     "name": "stdout",
     "output_type": "stream",
     "text": [
      "Instrument:  piano\n",
      "Opening file:  /Users/kevin_katzmann/ds/Metis/projects/Kojak/music/dataset/piano/C4_A4.wav\n",
      "Time (s):  122.47927437641724\n"
     ]
    },
    {
     "name": "stderr",
     "output_type": "stream",
     "text": [
      "/Users/kevin_katzmann/anaconda/lib/python3.5/site-packages/ipykernel/__main__.py:46: DeprecationWarning: Numeric-style type codes are deprecated and will result in an error in the future.\n"
     ]
    },
    {
     "name": "stdout",
     "output_type": "stream",
     "text": [
      "Opening file:  /Users/kevin_katzmann/ds/Metis/projects/Kojak/music/dataset/piano/C4_E4.wav\n",
      "Time (s):  121.93614512471655\n",
      "Opening file:  /Users/kevin_katzmann/ds/Metis/projects/Kojak/music/dataset/piano/C4_F4.wav\n",
      "Time (s):  124.65185941043084\n",
      "Opening file:  /Users/kevin_katzmann/ds/Metis/projects/Kojak/music/dataset/piano/C4_G4.wav\n",
      "Time (s):  123.56557823129252\n",
      "Opening file:  /Users/kevin_katzmann/ds/Metis/projects/Kojak/music/dataset/piano/E4_A4.wav\n",
      "Time (s):  123.02242630385487\n",
      "Opening file:  /Users/kevin_katzmann/ds/Metis/projects/Kojak/music/dataset/piano/E4_F4.wav\n",
      "Time (s):  122.75086167800454\n",
      "Opening file:  /Users/kevin_katzmann/ds/Metis/projects/Kojak/music/dataset/piano/E4_G4.wav\n",
      "Time (s):  121.93614512471655\n",
      "Opening file:  /Users/kevin_katzmann/ds/Metis/projects/Kojak/music/dataset/piano/F4_A4.wav\n",
      "Time (s):  123.02242630385487\n",
      "Opening file:  /Users/kevin_katzmann/ds/Metis/projects/Kojak/music/dataset/piano/F4_G4.wav\n",
      "Time (s):  122.59369614512471\n",
      "Opening file:  /Users/kevin_katzmann/ds/Metis/projects/Kojak/music/dataset/piano/G4_A4.wav\n",
      "Time (s):  123.02244897959184\n",
      "Instrument:  flute\n",
      "Opening file:  /Users/kevin_katzmann/ds/Metis/projects/Kojak/music/dataset/flute/C4_A4.wav\n",
      "Time (s):  123.6946485260771\n",
      "Opening file:  /Users/kevin_katzmann/ds/Metis/projects/Kojak/music/dataset/flute/C4_E4.wav\n",
      "Time (s):  123.6946485260771\n",
      "Opening file:  /Users/kevin_katzmann/ds/Metis/projects/Kojak/music/dataset/flute/C4_F4.wav\n",
      "Time (s):  122.51097505668935\n",
      "Opening file:  /Users/kevin_katzmann/ds/Metis/projects/Kojak/music/dataset/flute/C4_G4.wav\n",
      "Time (s):  122.80689342403628\n",
      "Opening file:  /Users/kevin_katzmann/ds/Metis/projects/Kojak/music/dataset/flute/E4_A4.wav\n",
      "Time (s):  122.51097505668935\n",
      "Opening file:  /Users/kevin_katzmann/ds/Metis/projects/Kojak/music/dataset/flute/E4_F4.wav\n",
      "Time (s):  124.87834467120182\n",
      "Opening file:  /Users/kevin_katzmann/ds/Metis/projects/Kojak/music/dataset/flute/E4_G4.wav\n",
      "Time (s):  122.50578231292516\n",
      "Opening file:  /Users/kevin_katzmann/ds/Metis/projects/Kojak/music/dataset/flute/F4_A4.wav\n",
      "Time (s):  121.91913832199546\n",
      "Opening file:  /Users/kevin_katzmann/ds/Metis/projects/Kojak/music/dataset/flute/F4_G4.wav\n",
      "Time (s):  123.39873015873016\n",
      "Opening file:  /Users/kevin_katzmann/ds/Metis/projects/Kojak/music/dataset/flute/G4_A4.wav\n",
      "Time (s):  121.79943310657596\n",
      "CPU times: user 1min 10s, sys: 9.75 s, total: 1min 20s\n",
      "Wall time: 51.8 s\n"
     ]
    }
   ],
   "source": [
    "%%time\n",
    "df = create_df(inst_dict)"
   ]
  },
  {
   "cell_type": "code",
   "execution_count": 25,
   "metadata": {
    "collapsed": false
   },
   "outputs": [
    {
     "data": {
      "text/html": [
       "<div>\n",
       "<table border=\"1\" class=\"dataframe\">\n",
       "  <thead>\n",
       "    <tr style=\"text-align: right;\">\n",
       "      <th></th>\n",
       "      <th>instrument</th>\n",
       "      <th>0.0 Hz</th>\n",
       "      <th>2.0 Hz</th>\n",
       "      <th>4.0 Hz</th>\n",
       "      <th>6.0 Hz</th>\n",
       "      <th>8.0 Hz</th>\n",
       "      <th>10.0 Hz</th>\n",
       "      <th>12.0 Hz</th>\n",
       "      <th>14.0 Hz</th>\n",
       "      <th>16.0 Hz</th>\n",
       "      <th>...</th>\n",
       "      <th>2.5+ s</th>\n",
       "      <th>2.75+ s</th>\n",
       "      <th>3.0+ s</th>\n",
       "      <th>3.25+ s</th>\n",
       "      <th>3.5+ s</th>\n",
       "      <th>3.75+ s</th>\n",
       "      <th>4.0+ s</th>\n",
       "      <th>4.25+ s</th>\n",
       "      <th>4.5+ s</th>\n",
       "      <th>4.75+ s</th>\n",
       "    </tr>\n",
       "  </thead>\n",
       "  <tbody>\n",
       "    <tr>\n",
       "      <th>0</th>\n",
       "      <td>piano</td>\n",
       "      <td>0.188659</td>\n",
       "      <td>0.000000</td>\n",
       "      <td>14.462608</td>\n",
       "      <td>5.794117</td>\n",
       "      <td>7.788014</td>\n",
       "      <td>4.208870</td>\n",
       "      <td>3.763329</td>\n",
       "      <td>3.490718</td>\n",
       "      <td>243.415361</td>\n",
       "      <td>...</td>\n",
       "      <td>2.508654</td>\n",
       "      <td>2.307055</td>\n",
       "      <td>2.486311</td>\n",
       "      <td>2.454263</td>\n",
       "      <td>2.037899</td>\n",
       "      <td>1.830852</td>\n",
       "      <td>2.558858</td>\n",
       "      <td>1.927958</td>\n",
       "      <td>2.846597</td>\n",
       "      <td>2.120292</td>\n",
       "    </tr>\n",
       "    <tr>\n",
       "      <th>1</th>\n",
       "      <td>piano</td>\n",
       "      <td>0.426600</td>\n",
       "      <td>988.469666</td>\n",
       "      <td>600.288256</td>\n",
       "      <td>232.375840</td>\n",
       "      <td>80.226762</td>\n",
       "      <td>36.776741</td>\n",
       "      <td>43.334542</td>\n",
       "      <td>38.438236</td>\n",
       "      <td>34.722463</td>\n",
       "      <td>...</td>\n",
       "      <td>0.918194</td>\n",
       "      <td>1.212275</td>\n",
       "      <td>0.894884</td>\n",
       "      <td>1.175351</td>\n",
       "      <td>0.942144</td>\n",
       "      <td>1.117591</td>\n",
       "      <td>0.649042</td>\n",
       "      <td>0.914750</td>\n",
       "      <td>0.744140</td>\n",
       "      <td>0.867145</td>\n",
       "    </tr>\n",
       "    <tr>\n",
       "      <th>2</th>\n",
       "      <td>piano</td>\n",
       "      <td>0.188659</td>\n",
       "      <td>0.000000</td>\n",
       "      <td>14.462608</td>\n",
       "      <td>5.794117</td>\n",
       "      <td>7.788014</td>\n",
       "      <td>4.208870</td>\n",
       "      <td>3.763329</td>\n",
       "      <td>3.490718</td>\n",
       "      <td>243.415361</td>\n",
       "      <td>...</td>\n",
       "      <td>2.508654</td>\n",
       "      <td>2.307055</td>\n",
       "      <td>2.486311</td>\n",
       "      <td>2.454263</td>\n",
       "      <td>2.037899</td>\n",
       "      <td>1.830852</td>\n",
       "      <td>2.558858</td>\n",
       "      <td>1.927958</td>\n",
       "      <td>2.846597</td>\n",
       "      <td>2.120292</td>\n",
       "    </tr>\n",
       "    <tr>\n",
       "      <th>3</th>\n",
       "      <td>piano</td>\n",
       "      <td>0.426600</td>\n",
       "      <td>988.469666</td>\n",
       "      <td>600.288256</td>\n",
       "      <td>232.375840</td>\n",
       "      <td>80.226762</td>\n",
       "      <td>36.776741</td>\n",
       "      <td>43.334542</td>\n",
       "      <td>38.438236</td>\n",
       "      <td>34.722463</td>\n",
       "      <td>...</td>\n",
       "      <td>0.918194</td>\n",
       "      <td>1.212275</td>\n",
       "      <td>0.894884</td>\n",
       "      <td>1.175351</td>\n",
       "      <td>0.942144</td>\n",
       "      <td>1.117591</td>\n",
       "      <td>0.649042</td>\n",
       "      <td>0.914750</td>\n",
       "      <td>0.744140</td>\n",
       "      <td>0.867145</td>\n",
       "    </tr>\n",
       "    <tr>\n",
       "      <th>4</th>\n",
       "      <td>piano</td>\n",
       "      <td>0.188659</td>\n",
       "      <td>0.000000</td>\n",
       "      <td>14.462608</td>\n",
       "      <td>5.794117</td>\n",
       "      <td>7.788014</td>\n",
       "      <td>4.208870</td>\n",
       "      <td>3.763329</td>\n",
       "      <td>3.490718</td>\n",
       "      <td>243.415361</td>\n",
       "      <td>...</td>\n",
       "      <td>2.508654</td>\n",
       "      <td>2.307055</td>\n",
       "      <td>2.486311</td>\n",
       "      <td>2.454263</td>\n",
       "      <td>2.037899</td>\n",
       "      <td>1.830852</td>\n",
       "      <td>2.558858</td>\n",
       "      <td>1.927958</td>\n",
       "      <td>2.846597</td>\n",
       "      <td>2.120292</td>\n",
       "    </tr>\n",
       "  </tbody>\n",
       "</table>\n",
       "<p>5 rows × 5533 columns</p>\n",
       "</div>"
      ],
      "text/plain": [
       "  instrument    0.0 Hz      2.0 Hz      4.0 Hz      6.0 Hz     8.0 Hz  \\\n",
       "0      piano  0.188659    0.000000   14.462608    5.794117   7.788014   \n",
       "1      piano  0.426600  988.469666  600.288256  232.375840  80.226762   \n",
       "2      piano  0.188659    0.000000   14.462608    5.794117   7.788014   \n",
       "3      piano  0.426600  988.469666  600.288256  232.375840  80.226762   \n",
       "4      piano  0.188659    0.000000   14.462608    5.794117   7.788014   \n",
       "\n",
       "     10.0 Hz    12.0 Hz    14.0 Hz     16.0 Hz    ...       2.5+ s   2.75+ s  \\\n",
       "0   4.208870   3.763329   3.490718  243.415361    ...     2.508654  2.307055   \n",
       "1  36.776741  43.334542  38.438236   34.722463    ...     0.918194  1.212275   \n",
       "2   4.208870   3.763329   3.490718  243.415361    ...     2.508654  2.307055   \n",
       "3  36.776741  43.334542  38.438236   34.722463    ...     0.918194  1.212275   \n",
       "4   4.208870   3.763329   3.490718  243.415361    ...     2.508654  2.307055   \n",
       "\n",
       "     3.0+ s   3.25+ s    3.5+ s   3.75+ s    4.0+ s   4.25+ s    4.5+ s  \\\n",
       "0  2.486311  2.454263  2.037899  1.830852  2.558858  1.927958  2.846597   \n",
       "1  0.894884  1.175351  0.942144  1.117591  0.649042  0.914750  0.744140   \n",
       "2  2.486311  2.454263  2.037899  1.830852  2.558858  1.927958  2.846597   \n",
       "3  0.894884  1.175351  0.942144  1.117591  0.649042  0.914750  0.744140   \n",
       "4  2.486311  2.454263  2.037899  1.830852  2.558858  1.927958  2.846597   \n",
       "\n",
       "    4.75+ s  \n",
       "0  2.120292  \n",
       "1  0.867145  \n",
       "2  2.120292  \n",
       "3  0.867145  \n",
       "4  2.120292  \n",
       "\n",
       "[5 rows x 5533 columns]"
      ]
     },
     "execution_count": 25,
     "metadata": {},
     "output_type": "execute_result"
    }
   ],
   "source": [
    "df.head()"
   ]
  },
  {
   "cell_type": "code",
   "execution_count": 26,
   "metadata": {
    "collapsed": false
   },
   "outputs": [],
   "source": [
    "# Pickling\n",
    "# Un-comment to either re-write or open 'instrument_df.pkl'\n",
    "\n",
    "# Writing\n",
    "#with open('instrument_df.pkl', 'wb') as picklefile:\n",
    "#    pickle.dump(df, picklefile)\n",
    "\n",
    "# Opening\n",
    "#with open('instrument_df.pkl', 'rb') as picklefile: \n",
    "#    df = pickle.load(picklefile)"
   ]
  },
  {
   "cell_type": "code",
   "execution_count": null,
   "metadata": {
    "collapsed": true
   },
   "outputs": [],
   "source": []
  },
  {
   "cell_type": "code",
   "execution_count": null,
   "metadata": {
    "collapsed": true
   },
   "outputs": [],
   "source": []
  },
  {
   "cell_type": "code",
   "execution_count": null,
   "metadata": {
    "collapsed": true
   },
   "outputs": [],
   "source": []
  },
  {
   "cell_type": "code",
   "execution_count": null,
   "metadata": {
    "collapsed": true
   },
   "outputs": [],
   "source": []
  },
  {
   "cell_type": "code",
   "execution_count": null,
   "metadata": {
    "collapsed": true
   },
   "outputs": [],
   "source": []
  },
  {
   "cell_type": "code",
   "execution_count": null,
   "metadata": {
    "collapsed": true
   },
   "outputs": [],
   "source": []
  },
  {
   "cell_type": "code",
   "execution_count": null,
   "metadata": {
    "collapsed": true
   },
   "outputs": [],
   "source": []
  },
  {
   "cell_type": "code",
   "execution_count": null,
   "metadata": {
    "collapsed": true
   },
   "outputs": [],
   "source": []
  }
 ],
 "metadata": {
  "anaconda-cloud": {},
  "kernelspec": {
   "display_name": "Python [conda root]",
   "language": "python",
   "name": "conda-root-py"
  },
  "language_info": {
   "codemirror_mode": {
    "name": "ipython",
    "version": 3
   },
   "file_extension": ".py",
   "mimetype": "text/x-python",
   "name": "python",
   "nbconvert_exporter": "python",
   "pygments_lexer": "ipython3",
   "version": "3.5.2"
  }
 },
 "nbformat": 4,
 "nbformat_minor": 1
}
